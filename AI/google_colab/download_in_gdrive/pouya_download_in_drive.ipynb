{
  "nbformat": 4,
  "nbformat_minor": 0,
  "metadata": {
    "colab": {
      "provenance": [],
      "include_colab_link": true
    },
    "kernelspec": {
      "name": "python3",
      "display_name": "Python 3"
    },
    "language_info": {
      "name": "python"
    }
  },
  "cells": [
    {
      "cell_type": "markdown",
      "metadata": {
        "id": "view-in-github",
        "colab_type": "text"
      },
      "source": [
        "<a href=\"https://colab.research.google.com/github/AttackThwarter/note-repo/blob/AUTOMATIC1111/AI/google_colab/download_in_gdrive/pouya_download_in_drive.ipynb\" target=\"_parent\"><img src=\"https://colab.research.google.com/assets/colab-badge.svg\" alt=\"Open In Colab\"/></a>"
      ]
    },
    {
      "cell_type": "code",
      "source": [
        "# @markdown # connect to the google drive\n",
        "from google.colab import drive\n",
        "drive.mount('/content/drive')"
      ],
      "metadata": {
        "id": "i-zwjNhHq_Jc",
        "cellView": "form",
        "colab": {
          "base_uri": "https://localhost:8080/"
        },
        "outputId": "3f00ec60-071c-4b96-a3dc-608dfb334708"
      },
      "execution_count": null,
      "outputs": [
        {
          "output_type": "stream",
          "name": "stdout",
          "text": [
            "Mounted at /content/drive\n"
          ]
        }
      ]
    },
    {
      "cell_type": "markdown",
      "source": [
        "# use one  of this methods for download"
      ],
      "metadata": {
        "id": "tHkvl-WrkSry"
      }
    },
    {
      "cell_type": "code",
      "execution_count": null,
      "metadata": {
        "id": "8Dz_biolq3dz",
        "cellView": "form"
      },
      "outputs": [],
      "source": [
        "# @markdown # download and save to the google drive\n",
        "\n",
        "from google.colab import drive\n",
        "import os\n",
        "import requests\n",
        "from tqdm import tqdm\n",
        "\n",
        "\n",
        "drive.mount('/content/drive')\n",
        "\n",
        "\n",
        "url = 'https://civitai.com/api/download/models/984672?type=Model&format=SafeTensor' # @param {type: \"string\"}\n",
        "file_name = 'aidmaImageUprader-FLUX-v0.3.safetensors' # @param {type: \"string\"}\n",
        "dir_location = '/content/drive/MyDrive/AI/automatic1111/models/Lora' # @param {type: \"string\"}\n",
        "location = os.path.join(dir_location, file_name)\n",
        "\n",
        "\n",
        "os.makedirs(dir_location, exist_ok=True)\n",
        "\n",
        "\n",
        "if os.path.exists(location) and not os.path.isfile(location):\n",
        "    raise IsADirectoryError(f\"{location} is a directory, not a file. Please check your paths.\")\n",
        "print(f\"Directory {dir_location} is ready.\")\n",
        "print(f\"Downloading from {url} to {location}\")\n",
        "\n",
        "\n",
        "response = requests.get(url, stream=True)\n",
        "response.raise_for_status()\n",
        "\n",
        "total_size = int(response.headers.get('content-length', 0))\n",
        "block_size = 8192\n",
        "\n",
        "\n",
        "with open(location, 'wb') as file, tqdm(\n",
        "    desc=file_name,\n",
        "    total=total_size,\n",
        "    unit='B',\n",
        "    unit_scale=True,\n",
        "    unit_divisor=1024,\n",
        ") as progress_bar:\n",
        "    for chunk in response.iter_content(chunk_size=block_size):\n",
        "        if chunk:\n",
        "            file.write(chunk)\n",
        "            progress_bar.update(len(chunk))\n",
        "\n",
        "print(\"Download complete!\")\n"
      ]
    },
    {
      "cell_type": "code",
      "source": [
        "# @markdown # download and save to the google drive with api key\n",
        "\n",
        "from google.colab import drive\n",
        "import os\n",
        "import requests\n",
        "from tqdm import tqdm\n",
        "\n",
        "# Mount Google Drive\n",
        "drive.mount('/content/drive')\n",
        "\n",
        "# URL of the file to download\n",
        "url = 'https://civitai.com/api/download/models/737284?type=Model&format=SafeTensor'  # @param {type: \"string\"}\n",
        "file_name = 'Dever_Flux_Enhancer.safetensors'  # @param {type: \"string\"}\n",
        "dir_location = '/content/drive/MyDrive/AI/automatic1111/models/Lora'  # @param {type: \"string\"}\n",
        "location = os.path.join(dir_location, file_name)\n",
        "\n",
        "# Create the target directory if it does not exist\n",
        "os.makedirs(dir_location, exist_ok=True)\n",
        "\n",
        "# Check if the location is a file or directory\n",
        "if os.path.exists(location) and not os.path.isfile(location):\n",
        "    raise IsADirectoryError(f\"{location} is a directory, not a file. Please check your paths.\")\n",
        "print(f\"Directory {dir_location} is ready.\")\n",
        "print(f\"Downloading from {url} to {location}\")\n",
        "\n",
        "# API Key for Authorization (replace with your actual key)\n",
        "api_key = '57ccb5d293da08c68b0f1d3165d8f688'  # @param {type: \"string\"}\n",
        "\n",
        "# Set up headers with Authorization Bearer token\n",
        "headers = {\n",
        "    'Authorization': f'Bearer {api_key}'\n",
        "}\n",
        "\n",
        "# Send a GET request to the URL with the Authorization header\n",
        "response = requests.get(url, headers=headers, stream=True)\n",
        "response.raise_for_status()  # Raise an error for a bad response\n",
        "\n",
        "# Get the total size of the file\n",
        "total_size = int(response.headers.get('content-length', 0))\n",
        "block_size = 8192  # Size of chunks to download\n",
        "\n",
        "# Download the file and save it to the specified location\n",
        "with open(location, 'wb') as file, tqdm(\n",
        "    desc=file_name,\n",
        "    total=total_size,\n",
        "    unit='B',\n",
        "    unit_scale=True,\n",
        "    unit_divisor=1024,\n",
        ") as progress_bar:\n",
        "    for chunk in response.iter_content(chunk_size=block_size):\n",
        "        if chunk:  # Ensure chunk is not empty\n",
        "            file.write(chunk)\n",
        "            progress_bar.update(len(chunk))\n",
        "\n",
        "print(\"Download complete!\")\n"
      ],
      "metadata": {
        "cellView": "form",
        "id": "17LRbxb7g15G"
      },
      "execution_count": null,
      "outputs": []
    },
    {
      "cell_type": "code",
      "source": [
        "# @markdown # download and save to the google drive with api key\n",
        "\n",
        "from google.colab import drive\n",
        "import os\n",
        "import requests\n",
        "from tqdm import tqdm\n",
        "\n",
        "# Mount Google Drive\n",
        "drive.mount('/content/drive')\n",
        "\n",
        "# URL of the file to download\n",
        "url = 'https://civitai.com/api/download/models/744453?type=Model&format=SafeTensor'  # @param {type: \"string\"}\n",
        "file_name = '0877 street car_v1_pony.safetensors'  # @param {type: \"string\"}\n",
        "dir_location = '/content/drive/MyDrive/AI/automatic1111/models/Lora'  # @param [\"/content/drive/MyDrive/AI/automatic1111/models/Stable-diffusion\", \"/content/drive/MyDrive/AI/automatic1111/models/Lora\"] {type:\"string\"}\n",
        "\n",
        "location = os.path.join(dir_location, file_name)\n",
        "\n",
        "# Create the target directory if it does not exist\n",
        "os.makedirs(dir_location, exist_ok=True)\n",
        "\n",
        "# Check if the location is a file or directory\n",
        "if os.path.exists(location) and not os.path.isfile(location):\n",
        "    raise IsADirectoryError(f\"{location} is a directory, not a file. Please check your paths.\")\n",
        "print(f\"Directory {dir_location} is ready.\")\n",
        "print(f\"Downloading from {url} to {location}\")\n",
        "\n",
        "# API Key for Authorization (replace with your actual key)\n",
        "api_key = ''  # @param {type: \"string\"}\n",
        "\n",
        "# Set up headers with Authorization Bearer token\n",
        "headers = {\n",
        "    'Authorization': f'Bearer {api_key}'\n",
        "}\n",
        "\n",
        "# Send a GET request to the URL with the Authorization header\n",
        "response = requests.get(url, headers=headers, stream=True)\n",
        "response.raise_for_status()  # Raise an error for a bad response\n",
        "\n",
        "# Get the total size of the file\n",
        "total_size = int(response.headers.get('content-length', 0))\n",
        "block_size = 8192  # Size of chunks to download\n",
        "\n",
        "# Download the file and save it to the specified location\n",
        "with open(location, 'wb') as file, tqdm(\n",
        "    desc=file_name,\n",
        "    total=total_size,\n",
        "    unit='B',\n",
        "    unit_scale=True,\n",
        "    unit_divisor=1024,\n",
        ") as progress_bar:\n",
        "    for chunk in response.iter_content(chunk_size=block_size):\n",
        "        if chunk:  # Ensure chunk is not empty\n",
        "            file.write(chunk)\n",
        "            progress_bar.update(len(chunk))\n",
        "\n",
        "print(\"Download complete!\")\n"
      ],
      "metadata": {
        "colab": {
          "base_uri": "https://localhost:8080/"
        },
        "cellView": "form",
        "outputId": "234eb071-e6bf-4c81-cec4-9a6664d84513",
        "id": "HQcfjZ98xWv0"
      },
      "execution_count": null,
      "outputs": [
        {
          "output_type": "stream",
          "name": "stdout",
          "text": [
            "Drive already mounted at /content/drive; to attempt to forcibly remount, call drive.mount(\"/content/drive\", force_remount=True).\n"
          ]
        }
      ]
    }
  ]
}