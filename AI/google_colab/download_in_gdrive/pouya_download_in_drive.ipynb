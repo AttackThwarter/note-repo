{
  "cells": [
    {
      "cell_type": "markdown",
      "metadata": {
        "colab_type": "text",
        "id": "view-in-github"
      },
      "source": [
        "<a href=\"https://colab.research.google.com/github/AttackThwarter/note-repo/blob/main/AI/google_colab/download_in_gdrive/pouya_download_in_drive.ipynb\" target=\"_parent\"><img src=\"https://colab.research.google.com/assets/colab-badge.svg\" alt=\"Open In Colab\"/></a>"
      ]
    },
    {
      "cell_type": "code",
      "execution_count": null,
      "metadata": {
        "cellView": "form",
        "id": "i-zwjNhHq_Jc"
      },
      "outputs": [],
      "source": [
        "# @markdown # connect to the google drive\n",
        "from google.colab import drive\n",
        "drive.mount('/content/drive')"
      ]
    },
    {
      "cell_type": "code",
      "execution_count": null,
      "metadata": {
        "cellView": "form",
        "id": "8Dz_biolq3dz"
      },
      "outputs": [],
      "source": [
        "# @markdown # download and save to the google drive\n",
        "\n",
        "from google.colab import drive\n",
        "import os\n",
        "import requests\n",
        "from tqdm import tqdm\n",
        "\n",
        "\n",
        "drive.mount('/content/drive')\n",
        "\n",
        "\n",
        "url = 'https://civitai.com/api/download/models/64269?type=Model&format=PickleTensor&size=pruned&fp=fp16' # @param {type: \"string\"}\n",
        "file_name = 'animalHumanHybrids_v10.ckpt' # @param {type: \"string\"}\n",
        "dir_location = '/content/drive/MyDrive/AI/automatic1111/models/Stable-diffusion' # @param {type: \"string\"}\n",
        "location = os.path.join(dir_location, file_name)\n",
        "\n",
        "\n",
        "os.makedirs(dir_location, exist_ok=True)\n",
        "\n",
        "\n",
        "if os.path.exists(location) and not os.path.isfile(location):\n",
        "    raise IsADirectoryError(f\"{location} is a directory, not a file. Please check your paths.\")\n",
        "print(f\"Directory {dir_location} is ready.\")\n",
        "print(f\"Downloading from {url} to {location}\")\n",
        "\n",
        "\n",
        "response = requests.get(url, stream=True)\n",
        "response.raise_for_status()\n",
        "\n",
        "total_size = int(response.headers.get('content-length', 0))\n",
        "block_size = 8192\n",
        "\n",
        "\n",
        "with open(location, 'wb') as file, tqdm(\n",
        "    desc=file_name,\n",
        "    total=total_size,\n",
        "    unit='B',\n",
        "    unit_scale=True,\n",
        "    unit_divisor=1024,\n",
        ") as progress_bar:\n",
        "    for chunk in response.iter_content(chunk_size=block_size):\n",
        "        if chunk:\n",
        "            file.write(chunk)\n",
        "            progress_bar.update(len(chunk))\n",
        "\n",
        "print(\"Download complete!\")\n"
      ]
    }
  ],
  "metadata": {
    "colab": {
      "include_colab_link": true,
      "provenance": [],
      "toc_visible": true
    },
    "kernelspec": {
      "display_name": "Python 3",
      "name": "python3"
    },
    "language_info": {
      "name": "python",
      "version": "3.10.6"
    }
  },
  "nbformat": 4,
  "nbformat_minor": 0
}
