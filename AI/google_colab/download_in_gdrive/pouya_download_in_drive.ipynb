{
  "cells": [
    {
      "cell_type": "markdown",
      "metadata": {
        "colab_type": "text",
        "id": "view-in-github"
      },
      "source": [
        "<a href=\"https://colab.research.google.com/github/AttackThwarter/note-repo/blob/main/AI/google_colab/download_in_gdrive/pouya_download_in_drive.ipynb\" target=\"_parent\"><img src=\"https://colab.research.google.com/assets/colab-badge.svg\" alt=\"Open In Colab\"/></a>"
      ]
    },
    {
      "cell_type": "markdown",
      "metadata": {
        "id": "9kAbywrwtBp1"
      },
      "source": [
        "# connect to google drive"
      ]
    },
    {
      "cell_type": "code",
      "execution_count": 1,
      "metadata": {
        "cellView": "form",
        "colab": {
          "base_uri": "https://localhost:8080/"
        },
        "id": "i-zwjNhHq_Jc",
        "outputId": "164cabba-c65b-4585-a62f-a3e0b5a4a8e4"
      },
      "outputs": [
        {
          "ename": "ModuleNotFoundError",
          "evalue": "No module named 'google.colab'",
          "output_type": "error",
          "traceback": [
            "\u001b[1;31m---------------------------------------------------------------------------\u001b[0m",
            "\u001b[1;31mModuleNotFoundError\u001b[0m                       Traceback (most recent call last)",
            "Cell \u001b[1;32mIn[1], line 2\u001b[0m\n\u001b[0;32m      1\u001b[0m \u001b[38;5;66;03m# @markdown # connect to the google drive\u001b[39;00m\n\u001b[1;32m----> 2\u001b[0m \u001b[38;5;28;01mfrom\u001b[39;00m \u001b[38;5;21;01mgoogle\u001b[39;00m\u001b[38;5;21;01m.\u001b[39;00m\u001b[38;5;21;01mcolab\u001b[39;00m \u001b[38;5;28;01mimport\u001b[39;00m drive\n\u001b[0;32m      3\u001b[0m drive\u001b[38;5;241m.\u001b[39mmount(\u001b[38;5;124m'\u001b[39m\u001b[38;5;124m/content/drive\u001b[39m\u001b[38;5;124m'\u001b[39m)\n",
            "\u001b[1;31mModuleNotFoundError\u001b[0m: No module named 'google.colab'"
          ]
        }
      ],
      "source": [
        "# @markdown # connect to the google drive\n",
        "from google.colab import drive\n",
        "drive.mount('/content/drive')"
      ]
    },
    {
      "cell_type": "code",
      "execution_count": null,
      "metadata": {
        "cellView": "form",
        "id": "8Dz_biolq3dz"
      },
      "outputs": [],
      "source": [
        "# @markdown # download and save to the google drive\n",
        "\n",
        "from google.colab import drive\n",
        "import os\n",
        "import requests\n",
        "from tqdm import tqdm\n",
        "\n",
        "\n",
        "drive.mount('/content/drive')\n",
        "\n",
        "\n",
        "url = 'https://civitai.com/api/download/models/64269?type=Model&format=PickleTensor&size=pruned&fp=fp16' # @param {type: \"string\"}\n",
        "file_name = 'animalHumanHybrids_v10.ckpt' # @param {type: \"string\"}\n",
        "dir_location = '/content/drive/MyDrive/AI/automatic1111/models/Stable-diffusion' # @param {type: \"string\"}\n",
        "location = os.path.join(dir_location, file_name)\n",
        "\n",
        "\n",
        "os.makedirs(dir_location, exist_ok=True)\n",
        "\n",
        "\n",
        "if os.path.exists(location) and not os.path.isfile(location):\n",
        "    raise IsADirectoryError(f\"{location} is a directory, not a file. Please check your paths.\")\n",
        "print(f\"Directory {dir_location} is ready.\")\n",
        "print(f\"Downloading from {url} to {location}\")\n",
        "\n",
        "\n",
        "response = requests.get(url, stream=True)\n",
        "response.raise_for_status()\n",
        "\n",
        "total_size = int(response.headers.get('content-length', 0))\n",
        "block_size = 8192\n",
        "\n",
        "\n",
        "with open(location, 'wb') as file, tqdm(\n",
        "    desc=file_name,\n",
        "    total=total_size,\n",
        "    unit='B',\n",
        "    unit_scale=True,\n",
        "    unit_divisor=1024,\n",
        ") as progress_bar:\n",
        "    for chunk in response.iter_content(chunk_size=block_size):\n",
        "        if chunk:\n",
        "            file.write(chunk)\n",
        "            progress_bar.update(len(chunk))\n",
        "\n",
        "print(\"Download complete!\")\n"
      ]
    }
  ],
  "metadata": {
    "colab": {
      "include_colab_link": true,
      "provenance": [],
      "toc_visible": true
    },
    "kernelspec": {
      "display_name": "Python 3",
      "name": "python3"
    },
    "language_info": {
      "codemirror_mode": {
        "name": "ipython",
        "version": 3
      },
      "file_extension": ".py",
      "mimetype": "text/x-python",
      "name": "python",
      "nbconvert_exporter": "python",
      "pygments_lexer": "ipython3",
      "version": "3.10.6"
    }
  },
  "nbformat": 4,
  "nbformat_minor": 0
}
